{
  "cells": [
    {
      "cell_type": "markdown",
      "metadata": {
        "id": "rhN8Qyp7xku9"
      },
      "source": [
        "# Creating a Medical triage workflow with TigerGraph\n",
        "<ol>\n"
      ]
    },
    {
      "cell_type": "markdown",
      "metadata": {
        "id": "0Ob5tNIFRsbh"
      },
      "source": [
        "# Set Up\n"
      ]
    },
    {
      "cell_type": "code",
      "execution_count": 2,
      "metadata": {
        "colab": {
          "base_uri": "https://localhost:8080/",
          "height": 310
        },
        "id": "rPKxBtecRuU_",
        "outputId": "31c1430b-7f39-419b-9fa7-3781f8c68e11"
      },
      "outputs": [
        {
          "name": "stdout",
          "output_type": "stream",
          "text": [
            "Python 2.7.16\n",
            "Requirement already satisfied: pyTigerGraph in /Library/Frameworks/Python.framework/Versions/3.8/lib/python3.8/site-packages (0.0.9.9.2)\n",
            "Requirement already satisfied: requests in /Library/Frameworks/Python.framework/Versions/3.8/lib/python3.8/site-packages (from pyTigerGraph) (2.24.0)\n",
            "Requirement already satisfied: pandas in /Library/Frameworks/Python.framework/Versions/3.8/lib/python3.8/site-packages (from pyTigerGraph) (1.4.2)\n",
            "Requirement already satisfied: validators in /Library/Frameworks/Python.framework/Versions/3.8/lib/python3.8/site-packages (from pyTigerGraph) (0.18.2)\n",
            "Requirement already satisfied: pyTigerDriver in /Library/Frameworks/Python.framework/Versions/3.8/lib/python3.8/site-packages (from pyTigerGraph) (1.0.14)\n",
            "Requirement already satisfied: numpy>=1.18.5 in /Library/Frameworks/Python.framework/Versions/3.8/lib/python3.8/site-packages (from pandas->pyTigerGraph) (1.22.3)\n",
            "Requirement already satisfied: pytz>=2020.1 in /Library/Frameworks/Python.framework/Versions/3.8/lib/python3.8/site-packages (from pandas->pyTigerGraph) (2022.1)\n",
            "Requirement already satisfied: python-dateutil>=2.8.1 in /Library/Frameworks/Python.framework/Versions/3.8/lib/python3.8/site-packages (from pandas->pyTigerGraph) (2.8.2)\n",
            "Requirement already satisfied: chardet<4,>=3.0.2 in /Library/Frameworks/Python.framework/Versions/3.8/lib/python3.8/site-packages (from requests->pyTigerGraph) (3.0.4)\n",
            "Requirement already satisfied: idna<3,>=2.5 in /Library/Frameworks/Python.framework/Versions/3.8/lib/python3.8/site-packages (from requests->pyTigerGraph) (2.10)\n",
            "Requirement already satisfied: certifi>=2017.4.17 in /Library/Frameworks/Python.framework/Versions/3.8/lib/python3.8/site-packages (from requests->pyTigerGraph) (2020.6.20)\n",
            "Requirement already satisfied: urllib3!=1.25.0,!=1.25.1,<1.26,>=1.21.1 in /Library/Frameworks/Python.framework/Versions/3.8/lib/python3.8/site-packages (from requests->pyTigerGraph) (1.25.10)\n",
            "Requirement already satisfied: decorator>=3.4.0 in /Library/Frameworks/Python.framework/Versions/3.8/lib/python3.8/site-packages (from validators->pyTigerGraph) (5.1.1)\n",
            "Requirement already satisfied: six>=1.4.0 in /Library/Frameworks/Python.framework/Versions/3.8/lib/python3.8/site-packages (from validators->pyTigerGraph) (1.15.0)\n"
          ]
        }
      ],
      "source": [
        "!python --version\n",
        "!pip install pyTigerGraph"
      ]
    },
    {
      "cell_type": "markdown",
      "metadata": {
        "id": "yeC41suR4GLB"
      },
      "source": [
        "# Exploring pyTigerGraph"
      ]
    },
    {
      "cell_type": "code",
      "execution_count": 4,
      "metadata": {
        "colab": {
          "base_uri": "https://localhost:8080/",
          "height": 228
        },
        "id": "ExM9gUng-LQf",
        "outputId": "800da799-4404-4833-860b-126e1496c890"
      },
      "outputs": [
        {
          "name": "stdout",
          "output_type": "stream",
          "text": [
            "Requirement already satisfied: pyTigerGraph in /Library/Frameworks/Python.framework/Versions/3.8/lib/python3.8/site-packages (0.0.9.9.2)\n",
            "Requirement already satisfied: pyTigerDriver in /Library/Frameworks/Python.framework/Versions/3.8/lib/python3.8/site-packages (from pyTigerGraph) (1.0.14)\n",
            "Requirement already satisfied: requests in /Library/Frameworks/Python.framework/Versions/3.8/lib/python3.8/site-packages (from pyTigerGraph) (2.24.0)\n",
            "Requirement already satisfied: validators in /Library/Frameworks/Python.framework/Versions/3.8/lib/python3.8/site-packages (from pyTigerGraph) (0.18.2)\n",
            "Requirement already satisfied: pandas in /Library/Frameworks/Python.framework/Versions/3.8/lib/python3.8/site-packages (from pyTigerGraph) (1.4.2)\n",
            "Requirement already satisfied: python-dateutil>=2.8.1 in /Library/Frameworks/Python.framework/Versions/3.8/lib/python3.8/site-packages (from pandas->pyTigerGraph) (2.8.2)\n",
            "Requirement already satisfied: pytz>=2020.1 in /Library/Frameworks/Python.framework/Versions/3.8/lib/python3.8/site-packages (from pandas->pyTigerGraph) (2022.1)\n",
            "Requirement already satisfied: numpy>=1.18.5 in /Library/Frameworks/Python.framework/Versions/3.8/lib/python3.8/site-packages (from pandas->pyTigerGraph) (1.22.3)\n",
            "Requirement already satisfied: urllib3!=1.25.0,!=1.25.1,<1.26,>=1.21.1 in /Library/Frameworks/Python.framework/Versions/3.8/lib/python3.8/site-packages (from requests->pyTigerGraph) (1.25.10)\n",
            "Requirement already satisfied: idna<3,>=2.5 in /Library/Frameworks/Python.framework/Versions/3.8/lib/python3.8/site-packages (from requests->pyTigerGraph) (2.10)\n",
            "Requirement already satisfied: certifi>=2017.4.17 in /Library/Frameworks/Python.framework/Versions/3.8/lib/python3.8/site-packages (from requests->pyTigerGraph) (2020.6.20)\n",
            "Requirement already satisfied: chardet<4,>=3.0.2 in /Library/Frameworks/Python.framework/Versions/3.8/lib/python3.8/site-packages (from requests->pyTigerGraph) (3.0.4)\n",
            "Requirement already satisfied: decorator>=3.4.0 in /Library/Frameworks/Python.framework/Versions/3.8/lib/python3.8/site-packages (from validators->pyTigerGraph) (5.1.1)\n",
            "Requirement already satisfied: six>=1.4.0 in /Library/Frameworks/Python.framework/Versions/3.8/lib/python3.8/site-packages (from validators->pyTigerGraph) (1.15.0)\n"
          ]
        }
      ],
      "source": [
        "!pip install pyTigerGraph"
      ]
    },
    {
      "cell_type": "code",
      "execution_count": 6,
      "metadata": {
        "id": "Pm6GrHI64mMj"
      },
      "outputs": [],
      "source": [
        "import pyTigerGraph as tg # Importing\n",
        "\n",
        "# Create a Connection\n",
        "conn = tg.TigerGraphConnection(host=\"https://healthnet.i.tgcloud.io\", password=\"tigergraph\", gsqlVersion=\"3.0.5\", useCert=True)"
      ]
    },
    {
      "cell_type": "code",
      "execution_count": 7,
      "metadata": {
        "colab": {
          "base_uri": "https://localhost:8080/",
          "height": 638
        },
        "id": "Dbr-ys8KRB6V",
        "outputId": "a49da61a-66bb-4a56-ff08-5b392b6f2ed4"
      },
      "outputs": [
        {
          "name": "stdout",
          "output_type": "stream",
          "text": [
            "---- Global vertices, edges, and all graphs\n",
            "Vertex Types:\n",
            "Edge Types:\n",
            "\n",
            "Graphs:\n",
            "Jobs:\n",
            "\n",
            "\n",
            "JSON API version: v2\n",
            "Syntax version: v2\n",
            "\n"
          ]
        }
      ],
      "source": [
        "# Sets up connection with GSQL\n",
        "print(conn.gsql('ls', options=[]))"
      ]
    },
    {
      "cell_type": "code",
      "execution_count": 12,
      "metadata": {
        "colab": {
          "base_uri": "https://localhost:8080/",
          "height": 277
        },
        "id": "IJap8hAR_s6q",
        "outputId": "1757a39b-e2b4-4e1d-c981-a2d7ff80910b"
      },
      "outputs": [
        {
          "name": "stdout",
          "output_type": "stream",
          "text": [
            "Encountered \" \"integer\" \"INTEGER \"\" at line 3, column 56.\n",
            "Was expecting one of:\n",
            "\"abort\" ...\n",
            "\"acl\" ...\n",
            "\"admin\" ...\n",
            "\"api\" ...\n",
            "\"approx_count\" ...\n",
            "\"attribute\" ...\n",
            "\"begin\" ...\n",
            "\"bitindex\" ...\n",
            "\"bool\" ...\n",
            "\"change\" ...\n",
            "\"clear\" ...\n",
            "\"concat\" ...\n",
            "\"data\" ...\n",
            "\"DATA_SOURCE\" ...\n",
            "\"datetime\" ...\n",
            "\"decrypt\" ...\n",
            "\"description\" ...\n",
            "\"default\" ...\n",
            "\"define\" ...\n",
            "\"directed\" ...\n",
            "\"double\" ...\n",
            "\"empty\" ...\n",
            "\"execute\" ...\n",
            "\"exit\" ...\n",
            "\"export\" ...\n",
            "\"extern\" ...\n",
            "\"ExprFunctions\" ...\n",
            "\"ExprUtil\" ...\n",
            "\"FILENAME\" ...\n",
            "\"fixed_binary\" ...\n",
            "\"flatten\" ...\n",
            "\"flatten_json_array\" ...\n",
            "\"float\" ...\n",
            "\"gen-data\" ...\n",
            "\"get\" ...\n",
            "\"grant\" ...\n",
            "\"help\" ...\n",
            "\"icon\" ...\n",
            "\"import\" ...\n",
            "\"install\" ...\n",
            "\"int\" ...\n",
            "\"json\" ...\n",
            "\"leader\" ...\n",
            "\"list\" ...\n",
            "\"loading\" ...\n",
            "\"local\" ...\n",
            "\"ls\" ...\n",
            "\"map\" ...\n",
            "\"max\" ...\n",
            "\"min\" ...\n",
            "\"minus\" ...\n",
            "\"numeric\" ...\n",
            "\"of\" ...\n",
            "\"option\" ...\n",
            "\"overwrite\" ...\n",
            "\"owner\" ...\n",
            "\"pair\" ...\n",
            "\"password\" ...\n",
            "\"privilege\" ...\n",
            "\"put\" ...\n",
            "\"read\" ...\n",
            "\"recompile\" ...\n",
            "\"reject_line_rule\" ...\n",
            "\"resume\" ...\n",
            "\"revoke\" ...\n",
            "\"role\" ...\n",
            "\"run\" ...\n",
            "\"schema\" ...\n",
            "\"schema_change\" ...\n",
            "\"secondary_id\" ...\n",
            "\"secret\" ...\n",
            "\"secured\" ...\n",
            "\"separator\" ...\n",
            "\"set\" ...\n",
            "\"show\" ...\n",
            "\"split\" ...\n",
            "\"stats\" ...\n",
            "\"STATUS\" ...\n",
            "\"store\" ...\n",
            "\"string\" ...\n",
            "\"_substring\" ...\n",
            "\"syntax\" ...\n",
            "\"tag\" ...\n",
            "\"tags\" ...\n",
            "\"template\" ...\n",
            "\"token\" ...\n",
            "\"to_float\" ...\n",
            "\"to_int\" ...\n",
            "\"TokenBank\" ...\n",
            "\"token_len\" ...\n",
            "\"single\" ...\n",
            "\"legacy\" ...\n",
            "\"uint\" ...\n",
            "\"undirected\" ...\n",
            "\"use\" ...\n",
            "\"user\" ...\n",
            "\"users\" ...\n",
            "\"val\" ...\n",
            "\"vector\" ...\n",
            "\"version\" ...\n",
            "\"void\" ...\n",
            "<IDENTIFIER> ...\n",
            "\n",
            "Semantic Check Fails: The name condition does not match any vertex type, edge, or datasource type!\n",
            "The graph healthnet could not be created!\n"
          ]
        }
      ],
      "source": [
        "# Create Edges (published and references) and Vertices (source, article and event)\n",
        "print(conn.gsql('''\n",
        "  CREATE VERTEX condition(PRIMARY_ID name STRING, desciption STRING, icd_code STRING) WITH STATS=\"OUTDEGREE_BY_EDGETYPE\", PRIMARY_ID_AS_ATTRIBUTE=\"true\"\n",
        "  CREATE VERTEX symptom(PRIMARY_ID name STRING, priority INT) WITH STATS=\"OUTDEGREE_BY_EDGETYPE\", PRIMARY_ID_AS_ATTRIBUTE=\"true\"\n",
        "  CREATE VERTEX precaution(PRIMARY_ID id STRING, description STRING) WITH STATS=\"OUTDEGREE_BY_EDGETYPE\", PRIMARY_ID_AS_ATTRIBUTE=\"true\"\n",
        "  CREATE VERTEX specialist(PRIMARY_ID name STRING) WITH STATS=\"OUTDEGREE_BY_EDGETYPE\", PRIMARY_ID_AS_ATTRIBUTE=\"true\"\n",
        "\n",
        "  CREATE DIRECTED EDGE has_symptom(FROM condition, TO symptom) WITH REVERSE_EDGE=\"reverse_has_symptom\"\n",
        "  CREATE DIRECTED EDGE has_precaution(FROM condition, TO precaution) WITH REVERSE_EDGE=\"reverse_has_precaution\"\n",
        "  CREATE DIRECTED EDGE refer_to(FROM condition, TO specialist) WITH REVERSE_EDGE=\"reverse_refer_to\"\n",
        "\n",
        "  ''', options=[]))\n",
        "\n",
        "print(conn.gsql('''CREATE GRAPH healthnet(condition, symptom, precaution, specialist, has_symptom, has_precaution, refer_to)''', options=[])) # Create the Graph\n",
        "\n"
      ]
    },
    {
      "cell_type": "code",
      "execution_count": 38,
      "metadata": {
        "id": "Azmmt7KHPXVF"
      },
      "outputs": [],
      "source": [
        "# Edit the Connect Credentials for Loading Data\n",
        "conn.graphname = \"healthnet\"\n",
        "conn.apiToken = conn.getToken(conn.createSecret())"
      ]
    },
    {
      "cell_type": "markdown",
      "metadata": {},
      "source": [
        "Now we can import the CSV media rating into the graph."
      ]
    },
    {
      "cell_type": "markdown",
      "metadata": {},
      "source": [
        "###  What is a ICD-10 diagnosis code?\n",
        "Used for medical claim reporting in all healthcare settings, ICD-10-CM is a standardized classification system of diagnosis codes that represent conditions and diseases, related health problems, abnormal findings, signs and symptoms, injuries, external causes of injuries and diseases, and social circumstances"
      ]
    },
    {
      "cell_type": "markdown",
      "metadata": {},
      "source": [
        "Jobs for importing CSV into the graph\n"
      ]
    },
    {
      "cell_type": "code",
      "execution_count": 11,
      "metadata": {},
      "outputs": [
        {
          "name": "stdout",
          "output_type": "stream",
          "text": [
            "Successfully created loading jobs: [load_job_specialists_csv_1650482322027].\n",
            "Successfully created loading jobs: [load_job_Symptom_severity_csv_1650482478169].\n"
          ]
        }
      ],
      "source": [
        "print(conn.gsql('''\n",
        "CREATE LOADING JOB load_job_specialists_csv_1650482322027 FOR GRAPH healthnet {\n",
        "      DEFINE FILENAME MyDataSource;\n",
        "      LOAD MyDataSource TO VERTEX specialist VALUES($0) USING SEPARATOR=\",\", HEADER=\"false\", EOL=\"\\n\";\n",
        "    }\n",
        "    ''', options=[]))\n",
        "\n",
        "print(conn.gsql('''\n",
        "CREATE LOADING JOB load_job_Symptom_severity_csv_1650482478169 FOR GRAPH healthnet {\n",
        "      DEFINE FILENAME MyDataSource;\n",
        "      LOAD MyDataSource TO VERTEX symptom VALUES($0, _) USING SEPARATOR=\",\", HEADER=\"false\", EOL=\"\\n\";\n",
        "    }\n",
        " ''', options=[]))\n",
        "\n"
      ]
    }
  ],
  "metadata": {
    "colab": {
      "collapsed_sections": [],
      "name": "TG_API.ipynb",
      "provenance": []
    },
    "kernelspec": {
      "display_name": "Python 3",
      "name": "python3"
    },
    "language_info": {
      "codemirror_mode": {
        "name": "ipython",
        "version": 3
      },
      "file_extension": ".py",
      "mimetype": "text/x-python",
      "name": "python",
      "nbconvert_exporter": "python",
      "pygments_lexer": "ipython3",
      "version": "3.8.0"
    }
  },
  "nbformat": 4,
  "nbformat_minor": 0
}
