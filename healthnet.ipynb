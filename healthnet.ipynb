{
  "cells": [
    {
      "cell_type": "markdown",
      "metadata": {
        "id": "rhN8Qyp7xku9"
      },
      "source": [
        "# Creating a Medical triage workflow with TigerGraph\n",
        "<ol>\n"
      ]
    },
    {
      "cell_type": "markdown",
      "metadata": {
        "id": "0Ob5tNIFRsbh"
      },
      "source": [
        "# Set Up\n"
      ]
    },
    {
      "cell_type": "code",
      "execution_count": 2,
      "metadata": {
        "colab": {
          "base_uri": "https://localhost:8080/",
          "height": 310
        },
        "id": "rPKxBtecRuU_",
        "outputId": "31c1430b-7f39-419b-9fa7-3781f8c68e11"
      },
      "outputs": [
        {
          "name": "stdout",
          "output_type": "stream",
          "text": [
            "Python 2.7.16\n",
            "Requirement already satisfied: pyTigerGraph in /Library/Frameworks/Python.framework/Versions/3.8/lib/python3.8/site-packages (0.0.9.9.2)\n",
            "Requirement already satisfied: requests in /Library/Frameworks/Python.framework/Versions/3.8/lib/python3.8/site-packages (from pyTigerGraph) (2.24.0)\n",
            "Requirement already satisfied: pandas in /Library/Frameworks/Python.framework/Versions/3.8/lib/python3.8/site-packages (from pyTigerGraph) (1.4.2)\n",
            "Requirement already satisfied: validators in /Library/Frameworks/Python.framework/Versions/3.8/lib/python3.8/site-packages (from pyTigerGraph) (0.18.2)\n",
            "Requirement already satisfied: pyTigerDriver in /Library/Frameworks/Python.framework/Versions/3.8/lib/python3.8/site-packages (from pyTigerGraph) (1.0.14)\n",
            "Requirement already satisfied: numpy>=1.18.5 in /Library/Frameworks/Python.framework/Versions/3.8/lib/python3.8/site-packages (from pandas->pyTigerGraph) (1.22.3)\n",
            "Requirement already satisfied: pytz>=2020.1 in /Library/Frameworks/Python.framework/Versions/3.8/lib/python3.8/site-packages (from pandas->pyTigerGraph) (2022.1)\n",
            "Requirement already satisfied: python-dateutil>=2.8.1 in /Library/Frameworks/Python.framework/Versions/3.8/lib/python3.8/site-packages (from pandas->pyTigerGraph) (2.8.2)\n",
            "Requirement already satisfied: chardet<4,>=3.0.2 in /Library/Frameworks/Python.framework/Versions/3.8/lib/python3.8/site-packages (from requests->pyTigerGraph) (3.0.4)\n",
            "Requirement already satisfied: idna<3,>=2.5 in /Library/Frameworks/Python.framework/Versions/3.8/lib/python3.8/site-packages (from requests->pyTigerGraph) (2.10)\n",
            "Requirement already satisfied: certifi>=2017.4.17 in /Library/Frameworks/Python.framework/Versions/3.8/lib/python3.8/site-packages (from requests->pyTigerGraph) (2020.6.20)\n",
            "Requirement already satisfied: urllib3!=1.25.0,!=1.25.1,<1.26,>=1.21.1 in /Library/Frameworks/Python.framework/Versions/3.8/lib/python3.8/site-packages (from requests->pyTigerGraph) (1.25.10)\n",
            "Requirement already satisfied: decorator>=3.4.0 in /Library/Frameworks/Python.framework/Versions/3.8/lib/python3.8/site-packages (from validators->pyTigerGraph) (5.1.1)\n",
            "Requirement already satisfied: six>=1.4.0 in /Library/Frameworks/Python.framework/Versions/3.8/lib/python3.8/site-packages (from validators->pyTigerGraph) (1.15.0)\n"
          ]
        }
      ],
      "source": [
        "!python --version\n",
        "!pip install pyTigerGraph"
      ]
    },
    {
      "cell_type": "markdown",
      "metadata": {
        "id": "yeC41suR4GLB"
      },
      "source": [
        "# Exploring pyTigerGraph"
      ]
    },
    {
      "cell_type": "code",
      "execution_count": 4,
      "metadata": {
        "colab": {
          "base_uri": "https://localhost:8080/",
          "height": 228
        },
        "id": "ExM9gUng-LQf",
        "outputId": "800da799-4404-4833-860b-126e1496c890"
      },
      "outputs": [
        {
          "name": "stdout",
          "output_type": "stream",
          "text": [
            "Requirement already satisfied: pyTigerGraph in /Library/Frameworks/Python.framework/Versions/3.8/lib/python3.8/site-packages (0.0.9.9.2)\n",
            "Requirement already satisfied: pyTigerDriver in /Library/Frameworks/Python.framework/Versions/3.8/lib/python3.8/site-packages (from pyTigerGraph) (1.0.14)\n",
            "Requirement already satisfied: requests in /Library/Frameworks/Python.framework/Versions/3.8/lib/python3.8/site-packages (from pyTigerGraph) (2.24.0)\n",
            "Requirement already satisfied: validators in /Library/Frameworks/Python.framework/Versions/3.8/lib/python3.8/site-packages (from pyTigerGraph) (0.18.2)\n",
            "Requirement already satisfied: pandas in /Library/Frameworks/Python.framework/Versions/3.8/lib/python3.8/site-packages (from pyTigerGraph) (1.4.2)\n",
            "Requirement already satisfied: python-dateutil>=2.8.1 in /Library/Frameworks/Python.framework/Versions/3.8/lib/python3.8/site-packages (from pandas->pyTigerGraph) (2.8.2)\n",
            "Requirement already satisfied: pytz>=2020.1 in /Library/Frameworks/Python.framework/Versions/3.8/lib/python3.8/site-packages (from pandas->pyTigerGraph) (2022.1)\n",
            "Requirement already satisfied: numpy>=1.18.5 in /Library/Frameworks/Python.framework/Versions/3.8/lib/python3.8/site-packages (from pandas->pyTigerGraph) (1.22.3)\n",
            "Requirement already satisfied: urllib3!=1.25.0,!=1.25.1,<1.26,>=1.21.1 in /Library/Frameworks/Python.framework/Versions/3.8/lib/python3.8/site-packages (from requests->pyTigerGraph) (1.25.10)\n",
            "Requirement already satisfied: idna<3,>=2.5 in /Library/Frameworks/Python.framework/Versions/3.8/lib/python3.8/site-packages (from requests->pyTigerGraph) (2.10)\n",
            "Requirement already satisfied: certifi>=2017.4.17 in /Library/Frameworks/Python.framework/Versions/3.8/lib/python3.8/site-packages (from requests->pyTigerGraph) (2020.6.20)\n",
            "Requirement already satisfied: chardet<4,>=3.0.2 in /Library/Frameworks/Python.framework/Versions/3.8/lib/python3.8/site-packages (from requests->pyTigerGraph) (3.0.4)\n",
            "Requirement already satisfied: decorator>=3.4.0 in /Library/Frameworks/Python.framework/Versions/3.8/lib/python3.8/site-packages (from validators->pyTigerGraph) (5.1.1)\n",
            "Requirement already satisfied: six>=1.4.0 in /Library/Frameworks/Python.framework/Versions/3.8/lib/python3.8/site-packages (from validators->pyTigerGraph) (1.15.0)\n"
          ]
        }
      ],
      "source": [
        "!pip install pyTigerGraph"
      ]
    },
    {
      "cell_type": "code",
      "execution_count": 6,
      "metadata": {
        "id": "Pm6GrHI64mMj"
      },
      "outputs": [],
      "source": [
        "import pyTigerGraph as tg # Importing\n",
        "\n",
        "# Create a Connection\n",
        "conn = tg.TigerGraphConnection(host=\"https://healthnet.i.tgcloud.io\", password=\"tigergraph\", gsqlVersion=\"3.0.5\", useCert=True)"
      ]
    },
    {
      "cell_type": "code",
      "execution_count": 7,
      "metadata": {
        "colab": {
          "base_uri": "https://localhost:8080/",
          "height": 638
        },
        "id": "Dbr-ys8KRB6V",
        "outputId": "a49da61a-66bb-4a56-ff08-5b392b6f2ed4"
      },
      "outputs": [
        {
          "name": "stdout",
          "output_type": "stream",
          "text": [
            "---- Global vertices, edges, and all graphs\n",
            "Vertex Types:\n",
            "Edge Types:\n",
            "\n",
            "Graphs:\n",
            "Jobs:\n",
            "\n",
            "\n",
            "JSON API version: v2\n",
            "Syntax version: v2\n",
            "\n"
          ]
        }
      ],
      "source": [
        "# Sets up connection with GSQL\n",
        "print(conn.gsql('ls', options=[]))"
      ]
    },
    {
      "cell_type": "code",
      "execution_count": 21,
      "metadata": {
        "colab": {
          "base_uri": "https://localhost:8080/",
          "height": 277
        },
        "id": "IJap8hAR_s6q",
        "outputId": "1757a39b-e2b4-4e1d-c981-a2d7ff80910b"
      },
      "outputs": [
        {
          "name": "stdout",
          "output_type": "stream",
          "text": [
            "Successfully created vertex types: [condition].\n",
            "Successfully created vertex types: [symptom].\n",
            "Successfully created vertex types: [precaution].\n",
            "Successfully created vertex types: [specialist].\n",
            "Successfully created edge types: [has_symptom].\n",
            "Successfully created reverse edge types: [reverse_has_symptom].\n",
            "Successfully created edge types: [has_precaution].\n",
            "Successfully created reverse edge types: [reverse_has_precaution].\n",
            "Successfully created edge types: [refer_to].\n",
            "Successfully created reverse edge types: [reverse_refer_to].\n",
            "Stopping GPE GSE RESTPP\n",
            "Successfully stopped GPE GSE RESTPP in 30.694 seconds\n",
            "Starting GPE GSE RESTPP\n",
            "Successfully started GPE GSE RESTPP in 0.098 seconds\n",
            "The graph healthnet is created.\n"
          ]
        }
      ],
      "source": [
        "# Create Edges (published and references) and Vertices (source, article and event)\n",
        "print(conn.gsql('''\n",
        "  CREATE VERTEX condition(PRIMARY_ID name STRING, desciption STRING, icd_code STRING) WITH STATS=\"OUTDEGREE_BY_EDGETYPE\", PRIMARY_ID_AS_ATTRIBUTE=\"true\"\n",
        "  CREATE VERTEX symptom(PRIMARY_ID name STRING, severity INT) WITH STATS=\"OUTDEGREE_BY_EDGETYPE\", PRIMARY_ID_AS_ATTRIBUTE=\"true\"\n",
        "  CREATE VERTEX precaution(PRIMARY_ID id STRING, description STRING) WITH STATS=\"OUTDEGREE_BY_EDGETYPE\", PRIMARY_ID_AS_ATTRIBUTE=\"true\"\n",
        "  CREATE VERTEX specialist(PRIMARY_ID name STRING) WITH STATS=\"OUTDEGREE_BY_EDGETYPE\", PRIMARY_ID_AS_ATTRIBUTE=\"true\"\n",
        "\n",
        "  CREATE DIRECTED EDGE has_symptom(FROM condition, TO symptom) WITH REVERSE_EDGE=\"reverse_has_symptom\"\n",
        "  CREATE DIRECTED EDGE has_precaution(FROM condition, TO precaution) WITH REVERSE_EDGE=\"reverse_has_precaution\"\n",
        "  CREATE DIRECTED EDGE refer_to(FROM condition, TO specialist) WITH REVERSE_EDGE=\"reverse_refer_to\"\n",
        "\n",
        "  ''', options=[]))\n",
        "\n",
        "print(conn.gsql('''CREATE GRAPH healthnet(condition, symptom, precaution, specialist, has_symptom, has_precaution, refer_to)''', options=[])) # Create the Graph\n",
        "\n"
      ]
    },
    {
      "cell_type": "code",
      "execution_count": 19,
      "metadata": {
        "id": "Azmmt7KHPXVF"
      },
      "outputs": [],
      "source": [
        "# Edit the Connect Credentials for Loading Data\n",
        "conn.graphname = \"healthnet\"\n",
        "conn.apiToken = conn.getToken(conn.createSecret())"
      ]
    },
    {
      "cell_type": "markdown",
      "metadata": {},
      "source": [
        "Now we can import the CSV media rating into the graph."
      ]
    },
    {
      "cell_type": "markdown",
      "metadata": {},
      "source": [
        "###  What is a ICD-10 diagnosis code?\n",
        "Used for medical claim reporting in all healthcare settings, ICD-10-CM is a standardized classification system of diagnosis codes that represent conditions and diseases, related health problems, abnormal findings, signs and symptoms, injuries, external causes of injuries and diseases, and social circumstances"
      ]
    },
    {
      "cell_type": "markdown",
      "metadata": {},
      "source": [
        "Jobs for importing CSV into the graph\n"
      ]
    },
    {
      "cell_type": "code",
      "execution_count": 15,
      "metadata": {},
      "outputs": [
        {
          "name": "stdout",
          "output_type": "stream",
          "text": [
            "Successfully created loading jobs: [load_job_specialists_csv_1650482322027].\n",
            "Successfully created loading jobs: [load_job_Symptom_severity_csv_1650482478169].\n"
          ]
        }
      ],
      "source": [
        "print(conn.gsql('''\n",
        "CREATE LOADING JOB load_job_specialists_csv_1650501210039 FOR GRAPH healthnet {\n",
        "      DEFINE FILENAME MyDataSource;\n",
        "      LOAD MyDataSource TO VERTEX specialist VALUES($0) USING SEPARATOR=\",\", HEADER=\"true\", EOL=\"\\n\";\n",
        "    }\n",
        "\n",
        "CREATE LOADING JOB load_job_symptom_severity_csv_1650501255514 FOR GRAPH healthnet {\n",
        "      DEFINE FILENAME MyDataSource;\n",
        "      LOAD MyDataSource TO VERTEX symptom VALUES($0, $1) USING SEPARATOR=\",\", HEADER=\"true\", EOL=\"\\n\";\n",
        "    }\n",
        "\n",
        "CREATE LOADING JOB load_job_disease_precaution_csv_1650501525366 FOR GRAPH healthnet {\n",
        "      DEFINE FILENAME MyDataSource;\n",
        "      LOAD MyDataSource TO EDGE has_precaution VALUES($0, $1) USING SEPARATOR=\",\", HEADER=\"true\", EOL=\"\\n\";\n",
        "      LOAD MyDataSource TO EDGE has_precaution VALUES($0, $2) USING SEPARATOR=\",\", HEADER=\"true\", EOL=\"\\n\";\n",
        "      LOAD MyDataSource TO EDGE has_precaution VALUES($0, $3) USING SEPARATOR=\",\", HEADER=\"true\", EOL=\"\\n\";\n",
        "      LOAD MyDataSource TO EDGE has_precaution VALUES($0, $4) USING SEPARATOR=\",\", HEADER=\"true\", EOL=\"\\n\";\n",
        "    }\n",
        "\n",
        "CREATE LOADING JOB load_job_disease_symptoms_csv_1650501655558 FOR GRAPH healthnet {\n",
        "      DEFINE FILENAME MyDataSource;\n",
        "      LOAD MyDataSource TO EDGE has_symptom VALUES($0, $1) USING SEPARATOR=\",\", HEADER=\"false\", EOL=\"\\n\";\n",
        "      LOAD MyDataSource TO EDGE has_symptom VALUES($0, $2) USING SEPARATOR=\",\", HEADER=\"false\", EOL=\"\\n\";\n",
        "      LOAD MyDataSource TO EDGE has_symptom VALUES($0, $3) USING SEPARATOR=\",\", HEADER=\"false\", EOL=\"\\n\";\n",
        "      LOAD MyDataSource TO EDGE has_symptom VALUES($0, $4) USING SEPARATOR=\",\", HEADER=\"false\", EOL=\"\\n\";\n",
        "      LOAD MyDataSource TO EDGE has_symptom VALUES($0, $5) USING SEPARATOR=\",\", HEADER=\"false\", EOL=\"\\n\";\n",
        "      LOAD MyDataSource TO EDGE has_symptom VALUES($0, $5) USING SEPARATOR=\",\", HEADER=\"false\", EOL=\"\\n\";\n",
        "    }\n",
        "\n",
        "CREATE LOADING JOB load_job_disease_description_csv_1650503394334 FOR GRAPH healthnet {\n",
        "      DEFINE FILENAME MyDataSource;\n",
        "      LOAD MyDataSource TO VERTEX condition VALUES($0, $1, _) USING SEPARATOR=\",\", HEADER=\"true\", EOL=\"\\n\";\n",
        "    }\n",
        "\n",
        " ''', options=[]))\n",
        "\n"
      ]
    },
    {
      "cell_type": "markdown",
      "metadata": {},
      "source": [
        "## Peek into Data Load\n"
      ]
    },
    {
      "cell_type": "markdown",
      "metadata": {},
      "source": [
        "import pandas as pd\n",
        "\n",
        "df = pd.read_csv('data/conditions.csv')\n",
        "print(df.head(0))\n",
        "print('######')\n",
        "df = pd.read_csv('data/specialists.csv')\n",
        "print(df.head(0))\n",
        "print('######')\n",
        "df = pd.read_csv('data/disease-symptoms.csv')\n",
        "print(df.head(0))\n",
        "print('######')\n",
        "df = pd.read_csv('data/disease_description.csv')\n",
        "print(df.head(0))\n",
        "print('######')\n",
        "df = pd.read_csv('data/symptom-severity.csv')\n",
        "print(df.head(0))\n",
        "print('######')\n",
        "df = pd.read_csv('data/disease_precaution.csv')\n",
        "print(df.head(0))\n",
        "print('######')"
      ]
    },
    {
      "cell_type": "markdown",
      "metadata": {},
      "source": [
        "### Clear the Whole Graph\n",
        "DANGER ZONE"
      ]
    },
    {
      "cell_type": "code",
      "execution_count": 20,
      "metadata": {},
      "outputs": [
        {
          "data": {
            "text/plain": [
              "'Dropping all, about 1 minute ...\\nAbort all active loading jobs\\nTry to abort all loading jobs on graph healthnet, it may take a while ...\\n[ABORT_SUCCESS] No active Loading Job to abort.\\nResetting GPE...\\nSuccessfully reset GPE and GSE\\nStopping GPE GSE\\nSuccessfully stopped GPE GSE in 0.009 seconds\\nClearing graph store...\\nSuccessfully cleared graph store\\nStarting GPE GSE RESTPP\\nSuccessfully started GPE GSE RESTPP in 0.094 seconds\\nEverything is dropped.'"
            ]
          },
          "execution_count": 20,
          "metadata": {},
          "output_type": "execute_result"
        }
      ],
      "source": [
        "conn.gsql('''\n",
        "USE GLOBAL\n",
        "DROP ALL\n",
        "''')"
      ]
    },
    {
      "cell_type": "markdown",
      "metadata": {},
      "source": [
        "### Load data"
      ]
    },
    {
      "cell_type": "code",
      "execution_count": null,
      "metadata": {},
      "outputs": [],
      "source": [
        "import json\n",
        "\n",
        "specialist_file = \"data/specialists.csv\"\n",
        "res = conn.uploadFile(specialist_file, fileTag='MyDataSource', jobName='load_job_specialists_csv_1650501210039')\n",
        "print(json.dumps(res, indent=2))\n",
        "\n",
        "\n",
        "symptoms_file = \"data/symptom_severity.csv\"\n",
        "res = conn.uploadFile(symptoms_file, fileTag='MyDataSource', jobName='load_job_symptom_severity_csv_1650501255514')\n",
        "print(json.dumps(res, indent=2))\n",
        "\n",
        "\n",
        "precaution_file = \"data/disease_precaution.csv\"\n",
        "res = conn.uploadFile(precaution_file, fileTag='MyDataSource', jobName='load_job_disease_precaution_csv_1650501525366')\n",
        "print(json.dumps(res, indent=2))\n",
        "\n",
        "\n",
        "disease_symptoms_file = \"data/disease_symptoms.csv\"\n",
        "res = conn.uploadFile(disease_symptoms_file, fileTag='MyDataSource', jobName='load_job_disease_symptoms_csv_1650501655558')\n",
        "print(json.dumps(res, indent=2))\n",
        "\n",
        "\n",
        "disease_description_file = \"data/disease_description.csv\"\n",
        "res = conn.uploadFile(disease_description_file, fileTag='MyDataSource', jobName='load_job_disease_description_csv_1650503394334')\n",
        "print(json.dumps(res, indent=2))\n",
        "\n"
      ]
    }
  ],
  "metadata": {
    "colab": {
      "collapsed_sections": [],
      "name": "TG_API.ipynb",
      "provenance": []
    },
    "kernelspec": {
      "display_name": "Python 3",
      "name": "python3"
    },
    "language_info": {
      "codemirror_mode": {
        "name": "ipython",
        "version": 3
      },
      "file_extension": ".py",
      "mimetype": "text/x-python",
      "name": "python",
      "nbconvert_exporter": "python",
      "pygments_lexer": "ipython3",
      "version": "3.8.0"
    }
  },
  "nbformat": 4,
  "nbformat_minor": 0
}
