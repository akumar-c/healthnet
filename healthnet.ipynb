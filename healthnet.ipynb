{
  "cells": [
    {
      "cell_type": "markdown",
      "metadata": {
        "id": "rhN8Qyp7xku9"
      },
      "source": [
        "# Creating a Medical triage workflow with TigerGraph\n",
        "<ol>\n"
      ]
    },
    {
      "cell_type": "markdown",
      "metadata": {
        "id": "0Ob5tNIFRsbh"
      },
      "source": [
        "# Set Up\n"
      ]
    },
    {
      "cell_type": "code",
      "execution_count": 2,
      "metadata": {
        "colab": {
          "base_uri": "https://localhost:8080/",
          "height": 310
        },
        "id": "rPKxBtecRuU_",
        "outputId": "31c1430b-7f39-419b-9fa7-3781f8c68e11"
      },
      "outputs": [
        {
          "name": "stdout",
          "output_type": "stream",
          "text": [
            "Python 2.7.16\n",
            "Requirement already satisfied: pyTigerGraph in /Library/Frameworks/Python.framework/Versions/3.8/lib/python3.8/site-packages (0.0.9.9.2)\n",
            "Requirement already satisfied: requests in /Library/Frameworks/Python.framework/Versions/3.8/lib/python3.8/site-packages (from pyTigerGraph) (2.24.0)\n",
            "Requirement already satisfied: pandas in /Library/Frameworks/Python.framework/Versions/3.8/lib/python3.8/site-packages (from pyTigerGraph) (1.4.2)\n",
            "Requirement already satisfied: validators in /Library/Frameworks/Python.framework/Versions/3.8/lib/python3.8/site-packages (from pyTigerGraph) (0.18.2)\n",
            "Requirement already satisfied: pyTigerDriver in /Library/Frameworks/Python.framework/Versions/3.8/lib/python3.8/site-packages (from pyTigerGraph) (1.0.14)\n",
            "Requirement already satisfied: numpy>=1.18.5 in /Library/Frameworks/Python.framework/Versions/3.8/lib/python3.8/site-packages (from pandas->pyTigerGraph) (1.22.3)\n",
            "Requirement already satisfied: pytz>=2020.1 in /Library/Frameworks/Python.framework/Versions/3.8/lib/python3.8/site-packages (from pandas->pyTigerGraph) (2022.1)\n",
            "Requirement already satisfied: python-dateutil>=2.8.1 in /Library/Frameworks/Python.framework/Versions/3.8/lib/python3.8/site-packages (from pandas->pyTigerGraph) (2.8.2)\n",
            "Requirement already satisfied: chardet<4,>=3.0.2 in /Library/Frameworks/Python.framework/Versions/3.8/lib/python3.8/site-packages (from requests->pyTigerGraph) (3.0.4)\n",
            "Requirement already satisfied: idna<3,>=2.5 in /Library/Frameworks/Python.framework/Versions/3.8/lib/python3.8/site-packages (from requests->pyTigerGraph) (2.10)\n",
            "Requirement already satisfied: certifi>=2017.4.17 in /Library/Frameworks/Python.framework/Versions/3.8/lib/python3.8/site-packages (from requests->pyTigerGraph) (2020.6.20)\n",
            "Requirement already satisfied: urllib3!=1.25.0,!=1.25.1,<1.26,>=1.21.1 in /Library/Frameworks/Python.framework/Versions/3.8/lib/python3.8/site-packages (from requests->pyTigerGraph) (1.25.10)\n",
            "Requirement already satisfied: decorator>=3.4.0 in /Library/Frameworks/Python.framework/Versions/3.8/lib/python3.8/site-packages (from validators->pyTigerGraph) (5.1.1)\n",
            "Requirement already satisfied: six>=1.4.0 in /Library/Frameworks/Python.framework/Versions/3.8/lib/python3.8/site-packages (from validators->pyTigerGraph) (1.15.0)\n"
          ]
        }
      ],
      "source": [
        "!python --version\n",
        "!pip install pyTigerGraph"
      ]
    },
    {
      "cell_type": "markdown",
      "metadata": {
        "id": "yeC41suR4GLB"
      },
      "source": [
        "# Exploring pyTigerGraph"
      ]
    },
    {
      "cell_type": "code",
      "execution_count": 4,
      "metadata": {
        "colab": {
          "base_uri": "https://localhost:8080/",
          "height": 228
        },
        "id": "ExM9gUng-LQf",
        "outputId": "800da799-4404-4833-860b-126e1496c890"
      },
      "outputs": [
        {
          "name": "stdout",
          "output_type": "stream",
          "text": [
            "Requirement already satisfied: pyTigerGraph in /Library/Frameworks/Python.framework/Versions/3.8/lib/python3.8/site-packages (0.0.9.9.2)\n",
            "Requirement already satisfied: pyTigerDriver in /Library/Frameworks/Python.framework/Versions/3.8/lib/python3.8/site-packages (from pyTigerGraph) (1.0.14)\n",
            "Requirement already satisfied: requests in /Library/Frameworks/Python.framework/Versions/3.8/lib/python3.8/site-packages (from pyTigerGraph) (2.24.0)\n",
            "Requirement already satisfied: validators in /Library/Frameworks/Python.framework/Versions/3.8/lib/python3.8/site-packages (from pyTigerGraph) (0.18.2)\n",
            "Requirement already satisfied: pandas in /Library/Frameworks/Python.framework/Versions/3.8/lib/python3.8/site-packages (from pyTigerGraph) (1.4.2)\n",
            "Requirement already satisfied: python-dateutil>=2.8.1 in /Library/Frameworks/Python.framework/Versions/3.8/lib/python3.8/site-packages (from pandas->pyTigerGraph) (2.8.2)\n",
            "Requirement already satisfied: pytz>=2020.1 in /Library/Frameworks/Python.framework/Versions/3.8/lib/python3.8/site-packages (from pandas->pyTigerGraph) (2022.1)\n",
            "Requirement already satisfied: numpy>=1.18.5 in /Library/Frameworks/Python.framework/Versions/3.8/lib/python3.8/site-packages (from pandas->pyTigerGraph) (1.22.3)\n",
            "Requirement already satisfied: urllib3!=1.25.0,!=1.25.1,<1.26,>=1.21.1 in /Library/Frameworks/Python.framework/Versions/3.8/lib/python3.8/site-packages (from requests->pyTigerGraph) (1.25.10)\n",
            "Requirement already satisfied: idna<3,>=2.5 in /Library/Frameworks/Python.framework/Versions/3.8/lib/python3.8/site-packages (from requests->pyTigerGraph) (2.10)\n",
            "Requirement already satisfied: certifi>=2017.4.17 in /Library/Frameworks/Python.framework/Versions/3.8/lib/python3.8/site-packages (from requests->pyTigerGraph) (2020.6.20)\n",
            "Requirement already satisfied: chardet<4,>=3.0.2 in /Library/Frameworks/Python.framework/Versions/3.8/lib/python3.8/site-packages (from requests->pyTigerGraph) (3.0.4)\n",
            "Requirement already satisfied: decorator>=3.4.0 in /Library/Frameworks/Python.framework/Versions/3.8/lib/python3.8/site-packages (from validators->pyTigerGraph) (5.1.1)\n",
            "Requirement already satisfied: six>=1.4.0 in /Library/Frameworks/Python.framework/Versions/3.8/lib/python3.8/site-packages (from validators->pyTigerGraph) (1.15.0)\n"
          ]
        }
      ],
      "source": [
        "!pip install pyTigerGraph"
      ]
    },
    {
      "cell_type": "code",
      "execution_count": 5,
      "metadata": {
        "id": "Pm6GrHI64mMj"
      },
      "outputs": [],
      "source": [
        "import pyTigerGraph as tg # Importing\n",
        "\n",
        "# Create a Connection\n",
        "conn = tg.TigerGraphConnection(host=\"https://healthnet.i.tgcloud.io\", password=\"tigergraph\", gsqlVersion=\"3.0.5\", useCert=True)"
      ]
    },
    {
      "cell_type": "code",
      "execution_count": 3,
      "metadata": {
        "colab": {
          "base_uri": "https://localhost:8080/",
          "height": 638
        },
        "id": "Dbr-ys8KRB6V",
        "outputId": "a49da61a-66bb-4a56-ff08-5b392b6f2ed4"
      },
      "outputs": [
        {
          "ename": "gaierror",
          "evalue": "[Errno 8] nodename nor servname provided, or not known",
          "output_type": "error",
          "traceback": [
            "\u001b[0;31m---------------------------------------------------------------------------\u001b[0m",
            "\u001b[0;31mgaierror\u001b[0m                                  Traceback (most recent call last)",
            "File \u001b[0;32m/Library/Frameworks/Python.framework/Versions/3.8/lib/python3.8/site-packages/pyTigerGraph/pyTigerGraph.py:1659\u001b[0m, in \u001b[0;36mTigerGraphConnection.initGsql\u001b[0;34m(self, certLocation)\u001b[0m\n\u001b[1;32m   <a href='file:///Library/Frameworks/Python.framework/Versions/3.8/lib/python3.8/site-packages/pyTigerGraph/pyTigerGraph.py?line=1657'>1658</a>\u001b[0m \u001b[39mtry\u001b[39;00m:\n\u001b[0;32m-> <a href='file:///Library/Frameworks/Python.framework/Versions/3.8/lib/python3.8/site-packages/pyTigerGraph/pyTigerGraph.py?line=1658'>1659</a>\u001b[0m     Res \u001b[39m=\u001b[39m ssl\u001b[39m.\u001b[39;49mget_server_certificate((sslhost, \u001b[39mself\u001b[39;49m\u001b[39m.\u001b[39;49msslPort))\n\u001b[1;32m   <a href='file:///Library/Frameworks/Python.framework/Versions/3.8/lib/python3.8/site-packages/pyTigerGraph/pyTigerGraph.py?line=1659'>1660</a>\u001b[0m \u001b[39mexcept\u001b[39;00m:\n",
            "File \u001b[0;32m/Library/Frameworks/Python.framework/Versions/3.8/lib/python3.8/ssl.py:1483\u001b[0m, in \u001b[0;36mget_server_certificate\u001b[0;34m(addr, ssl_version, ca_certs)\u001b[0m\n\u001b[1;32m   <a href='file:///Library/Frameworks/Python.framework/Versions/3.8/lib/python3.8/ssl.py?line=1479'>1480</a>\u001b[0m context \u001b[39m=\u001b[39m _create_stdlib_context(ssl_version,\n\u001b[1;32m   <a href='file:///Library/Frameworks/Python.framework/Versions/3.8/lib/python3.8/ssl.py?line=1480'>1481</a>\u001b[0m                                  cert_reqs\u001b[39m=\u001b[39mcert_reqs,\n\u001b[1;32m   <a href='file:///Library/Frameworks/Python.framework/Versions/3.8/lib/python3.8/ssl.py?line=1481'>1482</a>\u001b[0m                                  cafile\u001b[39m=\u001b[39mca_certs)\n\u001b[0;32m-> <a href='file:///Library/Frameworks/Python.framework/Versions/3.8/lib/python3.8/ssl.py?line=1482'>1483</a>\u001b[0m \u001b[39mwith\u001b[39;00m  create_connection(addr) \u001b[39mas\u001b[39;00m sock:\n\u001b[1;32m   <a href='file:///Library/Frameworks/Python.framework/Versions/3.8/lib/python3.8/ssl.py?line=1483'>1484</a>\u001b[0m     \u001b[39mwith\u001b[39;00m context\u001b[39m.\u001b[39mwrap_socket(sock) \u001b[39mas\u001b[39;00m sslsock:\n",
            "File \u001b[0;32m/Library/Frameworks/Python.framework/Versions/3.8/lib/python3.8/socket.py:787\u001b[0m, in \u001b[0;36mcreate_connection\u001b[0;34m(address, timeout, source_address)\u001b[0m\n\u001b[1;32m    <a href='file:///Library/Frameworks/Python.framework/Versions/3.8/lib/python3.8/socket.py?line=785'>786</a>\u001b[0m err \u001b[39m=\u001b[39m \u001b[39mNone\u001b[39;00m\n\u001b[0;32m--> <a href='file:///Library/Frameworks/Python.framework/Versions/3.8/lib/python3.8/socket.py?line=786'>787</a>\u001b[0m \u001b[39mfor\u001b[39;00m res \u001b[39min\u001b[39;00m getaddrinfo(host, port, \u001b[39m0\u001b[39;49m, SOCK_STREAM):\n\u001b[1;32m    <a href='file:///Library/Frameworks/Python.framework/Versions/3.8/lib/python3.8/socket.py?line=787'>788</a>\u001b[0m     af, socktype, proto, canonname, sa \u001b[39m=\u001b[39m res\n",
            "File \u001b[0;32m/Library/Frameworks/Python.framework/Versions/3.8/lib/python3.8/socket.py:914\u001b[0m, in \u001b[0;36mgetaddrinfo\u001b[0;34m(host, port, family, type, proto, flags)\u001b[0m\n\u001b[1;32m    <a href='file:///Library/Frameworks/Python.framework/Versions/3.8/lib/python3.8/socket.py?line=912'>913</a>\u001b[0m addrlist \u001b[39m=\u001b[39m []\n\u001b[0;32m--> <a href='file:///Library/Frameworks/Python.framework/Versions/3.8/lib/python3.8/socket.py?line=913'>914</a>\u001b[0m \u001b[39mfor\u001b[39;00m res \u001b[39min\u001b[39;00m _socket\u001b[39m.\u001b[39;49mgetaddrinfo(host, port, family, \u001b[39mtype\u001b[39;49m, proto, flags):\n\u001b[1;32m    <a href='file:///Library/Frameworks/Python.framework/Versions/3.8/lib/python3.8/socket.py?line=914'>915</a>\u001b[0m     af, socktype, proto, canonname, sa \u001b[39m=\u001b[39m res\n",
            "\u001b[0;31mgaierror\u001b[0m: [Errno 8] nodename nor servname provided, or not known",
            "\nDuring handling of the above exception, another exception occurred:\n",
            "\u001b[0;31mgaierror\u001b[0m                                  Traceback (most recent call last)",
            "\u001b[1;32m/Users/jayshree/code/side-projects/tiger-graph/submissions-code/healthnet/healthnet.ipynb Cell 7'\u001b[0m in \u001b[0;36m<cell line: 2>\u001b[0;34m()\u001b[0m\n\u001b[1;32m      <a href='vscode-notebook-cell:/Users/jayshree/code/side-projects/tiger-graph/submissions-code/healthnet/healthnet.ipynb#ch0000006?line=0'>1</a>\u001b[0m \u001b[39m# Sets up connection with GSQL\u001b[39;00m\n\u001b[0;32m----> <a href='vscode-notebook-cell:/Users/jayshree/code/side-projects/tiger-graph/submissions-code/healthnet/healthnet.ipynb#ch0000006?line=1'>2</a>\u001b[0m \u001b[39mprint\u001b[39m(conn\u001b[39m.\u001b[39;49mgsql(\u001b[39m'\u001b[39;49m\u001b[39mls\u001b[39;49m\u001b[39m'\u001b[39;49m, options\u001b[39m=\u001b[39;49m[]))\n",
            "File \u001b[0;32m/Library/Frameworks/Python.framework/Versions/3.8/lib/python3.8/site-packages/pyTigerGraph/pyTigerGraph.py:1710\u001b[0m, in \u001b[0;36mTigerGraphConnection.gsql\u001b[0;34m(self, query, graphname, options)\u001b[0m\n\u001b[1;32m   <a href='file:///Library/Frameworks/Python.framework/Versions/3.8/lib/python3.8/site-packages/pyTigerGraph/pyTigerGraph.py?line=1707'>1708</a>\u001b[0m     graphname \u001b[39m=\u001b[39m \u001b[39m\"\u001b[39m\u001b[39m\"\u001b[39m\n\u001b[1;32m   <a href='file:///Library/Frameworks/Python.framework/Versions/3.8/lib/python3.8/site-packages/pyTigerGraph/pyTigerGraph.py?line=1708'>1709</a>\u001b[0m \u001b[39mif\u001b[39;00m \u001b[39mnot\u001b[39;00m \u001b[39mself\u001b[39m\u001b[39m.\u001b[39mgsqlInitiated:\n\u001b[0;32m-> <a href='file:///Library/Frameworks/Python.framework/Versions/3.8/lib/python3.8/site-packages/pyTigerGraph/pyTigerGraph.py?line=1709'>1710</a>\u001b[0m     \u001b[39mself\u001b[39m\u001b[39m.\u001b[39mgsqlInitiated \u001b[39m=\u001b[39m \u001b[39mself\u001b[39;49m\u001b[39m.\u001b[39;49minitGsql()\n\u001b[1;32m   <a href='file:///Library/Frameworks/Python.framework/Versions/3.8/lib/python3.8/site-packages/pyTigerGraph/pyTigerGraph.py?line=1710'>1711</a>\u001b[0m \u001b[39mif\u001b[39;00m \u001b[39mself\u001b[39m\u001b[39m.\u001b[39mgsqlInitiated:\n\u001b[1;32m   <a href='file:///Library/Frameworks/Python.framework/Versions/3.8/lib/python3.8/site-packages/pyTigerGraph/pyTigerGraph.py?line=1711'>1712</a>\u001b[0m     \u001b[39mif\u001b[39;00m \u001b[39m\"\u001b[39m\u001b[39m\\n\u001b[39;00m\u001b[39m\"\u001b[39m \u001b[39mnot\u001b[39;00m \u001b[39min\u001b[39;00m query:\n",
            "File \u001b[0;32m/Library/Frameworks/Python.framework/Versions/3.8/lib/python3.8/site-packages/pyTigerGraph/pyTigerGraph.py:1661\u001b[0m, in \u001b[0;36mTigerGraphConnection.initGsql\u001b[0;34m(self, certLocation)\u001b[0m\n\u001b[1;32m   <a href='file:///Library/Frameworks/Python.framework/Versions/3.8/lib/python3.8/site-packages/pyTigerGraph/pyTigerGraph.py?line=1658'>1659</a>\u001b[0m     Res \u001b[39m=\u001b[39m ssl\u001b[39m.\u001b[39mget_server_certificate((sslhost, \u001b[39mself\u001b[39m\u001b[39m.\u001b[39msslPort))\n\u001b[1;32m   <a href='file:///Library/Frameworks/Python.framework/Versions/3.8/lib/python3.8/site-packages/pyTigerGraph/pyTigerGraph.py?line=1659'>1660</a>\u001b[0m \u001b[39mexcept\u001b[39;00m:\n\u001b[0;32m-> <a href='file:///Library/Frameworks/Python.framework/Versions/3.8/lib/python3.8/site-packages/pyTigerGraph/pyTigerGraph.py?line=1660'>1661</a>\u001b[0m     Res \u001b[39m=\u001b[39m ssl\u001b[39m.\u001b[39;49mget_server_certificate((sslhost, \u001b[39m\"\u001b[39;49m\u001b[39m14240\u001b[39;49m\u001b[39m\"\u001b[39;49m))\n\u001b[1;32m   <a href='file:///Library/Frameworks/Python.framework/Versions/3.8/lib/python3.8/site-packages/pyTigerGraph/pyTigerGraph.py?line=1662'>1663</a>\u001b[0m \u001b[39mtry\u001b[39;00m:\n\u001b[1;32m   <a href='file:///Library/Frameworks/Python.framework/Versions/3.8/lib/python3.8/site-packages/pyTigerGraph/pyTigerGraph.py?line=1663'>1664</a>\u001b[0m     certcontent \u001b[39m=\u001b[39m \u001b[39mopen\u001b[39m(\u001b[39mself\u001b[39m\u001b[39m.\u001b[39mcertLocation, \u001b[39m'\u001b[39m\u001b[39mw\u001b[39m\u001b[39m'\u001b[39m)\n",
            "File \u001b[0;32m/Library/Frameworks/Python.framework/Versions/3.8/lib/python3.8/ssl.py:1483\u001b[0m, in \u001b[0;36mget_server_certificate\u001b[0;34m(addr, ssl_version, ca_certs)\u001b[0m\n\u001b[1;32m   <a href='file:///Library/Frameworks/Python.framework/Versions/3.8/lib/python3.8/ssl.py?line=1478'>1479</a>\u001b[0m     cert_reqs \u001b[39m=\u001b[39m CERT_NONE\n\u001b[1;32m   <a href='file:///Library/Frameworks/Python.framework/Versions/3.8/lib/python3.8/ssl.py?line=1479'>1480</a>\u001b[0m context \u001b[39m=\u001b[39m _create_stdlib_context(ssl_version,\n\u001b[1;32m   <a href='file:///Library/Frameworks/Python.framework/Versions/3.8/lib/python3.8/ssl.py?line=1480'>1481</a>\u001b[0m                                  cert_reqs\u001b[39m=\u001b[39mcert_reqs,\n\u001b[1;32m   <a href='file:///Library/Frameworks/Python.framework/Versions/3.8/lib/python3.8/ssl.py?line=1481'>1482</a>\u001b[0m                                  cafile\u001b[39m=\u001b[39mca_certs)\n\u001b[0;32m-> <a href='file:///Library/Frameworks/Python.framework/Versions/3.8/lib/python3.8/ssl.py?line=1482'>1483</a>\u001b[0m \u001b[39mwith\u001b[39;00m  create_connection(addr) \u001b[39mas\u001b[39;00m sock:\n\u001b[1;32m   <a href='file:///Library/Frameworks/Python.framework/Versions/3.8/lib/python3.8/ssl.py?line=1483'>1484</a>\u001b[0m     \u001b[39mwith\u001b[39;00m context\u001b[39m.\u001b[39mwrap_socket(sock) \u001b[39mas\u001b[39;00m sslsock:\n\u001b[1;32m   <a href='file:///Library/Frameworks/Python.framework/Versions/3.8/lib/python3.8/ssl.py?line=1484'>1485</a>\u001b[0m         dercert \u001b[39m=\u001b[39m sslsock\u001b[39m.\u001b[39mgetpeercert(\u001b[39mTrue\u001b[39;00m)\n",
            "File \u001b[0;32m/Library/Frameworks/Python.framework/Versions/3.8/lib/python3.8/socket.py:787\u001b[0m, in \u001b[0;36mcreate_connection\u001b[0;34m(address, timeout, source_address)\u001b[0m\n\u001b[1;32m    <a href='file:///Library/Frameworks/Python.framework/Versions/3.8/lib/python3.8/socket.py?line=784'>785</a>\u001b[0m host, port \u001b[39m=\u001b[39m address\n\u001b[1;32m    <a href='file:///Library/Frameworks/Python.framework/Versions/3.8/lib/python3.8/socket.py?line=785'>786</a>\u001b[0m err \u001b[39m=\u001b[39m \u001b[39mNone\u001b[39;00m\n\u001b[0;32m--> <a href='file:///Library/Frameworks/Python.framework/Versions/3.8/lib/python3.8/socket.py?line=786'>787</a>\u001b[0m \u001b[39mfor\u001b[39;00m res \u001b[39min\u001b[39;00m getaddrinfo(host, port, \u001b[39m0\u001b[39;49m, SOCK_STREAM):\n\u001b[1;32m    <a href='file:///Library/Frameworks/Python.framework/Versions/3.8/lib/python3.8/socket.py?line=787'>788</a>\u001b[0m     af, socktype, proto, canonname, sa \u001b[39m=\u001b[39m res\n\u001b[1;32m    <a href='file:///Library/Frameworks/Python.framework/Versions/3.8/lib/python3.8/socket.py?line=788'>789</a>\u001b[0m     sock \u001b[39m=\u001b[39m \u001b[39mNone\u001b[39;00m\n",
            "File \u001b[0;32m/Library/Frameworks/Python.framework/Versions/3.8/lib/python3.8/socket.py:914\u001b[0m, in \u001b[0;36mgetaddrinfo\u001b[0;34m(host, port, family, type, proto, flags)\u001b[0m\n\u001b[1;32m    <a href='file:///Library/Frameworks/Python.framework/Versions/3.8/lib/python3.8/socket.py?line=910'>911</a>\u001b[0m \u001b[39m# We override this function since we want to translate the numeric family\u001b[39;00m\n\u001b[1;32m    <a href='file:///Library/Frameworks/Python.framework/Versions/3.8/lib/python3.8/socket.py?line=911'>912</a>\u001b[0m \u001b[39m# and socket type values to enum constants.\u001b[39;00m\n\u001b[1;32m    <a href='file:///Library/Frameworks/Python.framework/Versions/3.8/lib/python3.8/socket.py?line=912'>913</a>\u001b[0m addrlist \u001b[39m=\u001b[39m []\n\u001b[0;32m--> <a href='file:///Library/Frameworks/Python.framework/Versions/3.8/lib/python3.8/socket.py?line=913'>914</a>\u001b[0m \u001b[39mfor\u001b[39;00m res \u001b[39min\u001b[39;00m _socket\u001b[39m.\u001b[39;49mgetaddrinfo(host, port, family, \u001b[39mtype\u001b[39;49m, proto, flags):\n\u001b[1;32m    <a href='file:///Library/Frameworks/Python.framework/Versions/3.8/lib/python3.8/socket.py?line=914'>915</a>\u001b[0m     af, socktype, proto, canonname, sa \u001b[39m=\u001b[39m res\n\u001b[1;32m    <a href='file:///Library/Frameworks/Python.framework/Versions/3.8/lib/python3.8/socket.py?line=915'>916</a>\u001b[0m     addrlist\u001b[39m.\u001b[39mappend((_intenum_converter(af, AddressFamily),\n\u001b[1;32m    <a href='file:///Library/Frameworks/Python.framework/Versions/3.8/lib/python3.8/socket.py?line=916'>917</a>\u001b[0m                      _intenum_converter(socktype, SocketKind),\n\u001b[1;32m    <a href='file:///Library/Frameworks/Python.framework/Versions/3.8/lib/python3.8/socket.py?line=917'>918</a>\u001b[0m                      proto, canonname, sa))\n",
            "\u001b[0;31mgaierror\u001b[0m: [Errno 8] nodename nor servname provided, or not known"
          ]
        }
      ],
      "source": [
        "# Sets up connection with GSQL\n",
        "print(conn.gsql('ls', options=[]))"
      ]
    },
    {
      "cell_type": "code",
      "execution_count": 37,
      "metadata": {
        "colab": {
          "base_uri": "https://localhost:8080/",
          "height": 277
        },
        "id": "IJap8hAR_s6q",
        "outputId": "1757a39b-e2b4-4e1d-c981-a2d7ff80910b"
      },
      "outputs": [
        {
          "name": "stdout",
          "output_type": "stream",
          "text": [
            "The graph newsgraph is created.\n"
          ]
        }
      ],
      "source": [
        "# Create Edges (published and references) and Vertices (source, article and event)\n",
        "print(conn.gsql('''\n",
        "  CREATE VERTEX condition(PRIMARY_ID id STRING, name STRING, desciption STRING, icd_code STRING) WITH STATS=\"OUTDEGREE_BY_EDGETYPE\", PRIMARY_ID_AS_ATTRIBUTE=\"true\"\n",
        "  CREATE VERTEX symptom(PRIMARY_ID id STRING, name STRING) WITH STATS=\"OUTDEGREE_BY_EDGETYPE\", PRIMARY_ID_AS_ATTRIBUTE=\"true\"\n",
        "  CREATE VERTEX precaution(PRIMARY_ID id STRING, description STRING) WITH STATS=\"OUTDEGREE_BY_EDGETYPE\", PRIMARY_ID_AS_ATTRIBUTE=\"true\"\n",
        "  CREATE VERTEX specialist(PRIMARY_ID name STRING) WITH STATS=\"OUTDEGREE_BY_EDGETYPE\", PRIMARY_ID_AS_ATTRIBUTE=\"true\"\n",
        "\n",
        "  CREATE DIRECTED EDGE has_symptom(FROM condition, TO symptom) WITH REVERSE_EDGE=\"reverse_has_symptom\"\n",
        "  CREATE DIRECTED EDGE has_precaution(FROM condition, TO precaution) WITH REVERSE_EDGE=\"reverse_has_precaution\"\n",
        "  CREATE DIRECTED EDGE refer_to(FROM condition, TO specialist) WITH REVERSE_EDGE=\"reverse_refer_to\"\n",
        "\n",
        "  ''', options=[]))\n",
        "\n",
        "print(conn.gsql('''CREATE GRAPH healthnet(condition, symptom, precaution, specialist, has_symptom, has_precaution, refer_to)''', options=[])) # Create the Graph\n",
        "\n"
      ]
    },
    {
      "cell_type": "code",
      "execution_count": 38,
      "metadata": {
        "id": "Azmmt7KHPXVF"
      },
      "outputs": [],
      "source": [
        "# Edit the Connect Credentials for Loading Data\n",
        "conn.graphname = \"healthnet\"\n",
        "conn.apiToken = conn.getToken(conn.createSecret())"
      ]
    },
    {
      "cell_type": "markdown",
      "metadata": {},
      "source": [
        "Now we can import the CSV media rating into the graph."
      ]
    },
    {
      "cell_type": "markdown",
      "metadata": {},
      "source": [
        "What is a ICD-10 diagnosis code?\n",
        "Used for medical claim reporting in all healthcare settings, ICD-10-CM is a standardized classification system of diagnosis codes that represent conditions and diseases, related health problems, abnormal findings, signs and symptoms, injuries, external causes of injuries and diseases, and social circumstances"
      ]
    }
  ],
  "metadata": {
    "colab": {
      "collapsed_sections": [],
      "name": "TG_API.ipynb",
      "provenance": []
    },
    "kernelspec": {
      "display_name": "Python 3",
      "name": "python3"
    },
    "language_info": {
      "codemirror_mode": {
        "name": "ipython",
        "version": 3
      },
      "file_extension": ".py",
      "mimetype": "text/x-python",
      "name": "python",
      "nbconvert_exporter": "python",
      "pygments_lexer": "ipython3",
      "version": "3.8.0"
    }
  },
  "nbformat": 4,
  "nbformat_minor": 0
}
